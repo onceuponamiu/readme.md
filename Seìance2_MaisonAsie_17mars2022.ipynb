{
 "cells": [
  {
   "cell_type": "markdown",
   "id": "81027e63",
   "metadata": {},
   "source": [
    "# Structures algorithmiques de base\n",
    "+ la séquence d'instructions\n",
    "+ la répétition ou boucles (for ou while ou repeat)\n",
    "+ le branchement conditionnel (si ... alors ... sinon ...) ou (if ... then ... else...)"
   ]
  },
  {
   "cell_type": "code",
   "execution_count": 1,
   "id": "ed1545f8",
   "metadata": {},
   "outputs": [
    {
     "name": "stdout",
     "output_type": "stream",
     "text": [
      "hello\n"
     ]
    }
   ],
   "source": [
    "print(\"hello\")"
   ]
  },
  {
   "cell_type": "code",
   "execution_count": 7,
   "id": "3d089250",
   "metadata": {},
   "outputs": [
    {
     "name": "stdout",
     "output_type": "stream",
     "text": [
      "3.9.7 (default, Sep 16 2021, 08:50:36) \n",
      "[Clang 10.0.0 ]\n"
     ]
    }
   ],
   "source": [
    "import sys\n",
    "print(sys.version)"
   ]
  },
  {
   "cell_type": "code",
   "execution_count": 37,
   "id": "15033bd5",
   "metadata": {},
   "outputs": [
    {
     "name": "stdout",
     "output_type": "stream",
     "text": [
      "hello\n",
      "0 coucou 1 coucou 2 coucou 3 coucou 4 coucou 5 coucou 6 coucou 7 coucou 8 coucou 9 coucou \n",
      "quand j'ai fini d'énumérer, la variable compteur vaut 9\n"
     ]
    }
   ],
   "source": [
    "print(\"hello\")\n",
    "\n",
    "for compteur in range(10):\n",
    "    print(compteur, end=\" \")\n",
    "    print(\"coucou\", end=\" \")    \n",
    "print()\n",
    "print(\"quand j'ai fini d'énumérer, la variable compteur vaut\",compteur)\n",
    "\n",
    "j=9 \n",
    "if (j%2==0):\n",
    "    print(\"j'affiche la variable -->\" , compteur)"
   ]
  },
  {
   "cell_type": "code",
   "execution_count": 40,
   "id": "eeda3ded",
   "metadata": {},
   "outputs": [
    {
     "name": "stdout",
     "output_type": "stream",
     "text": [
      "hello\n",
      "0 coucou 1 coucou 2 coucou 3 coucou 4 coucou 5 coucou 6 coucou 7 coucou 8 coucou 9 coucou "
     ]
    }
   ],
   "source": [
    "print(\"hello\")\n",
    "for compteur in range(10):\n",
    "    print(compteur, end=\" \")\n",
    "    print(\"coucou\", end=\" \")    \n",
    "if (compteur%2==0):\n",
    "    print(\"j'affiche la variable -->\" , compteur)"
   ]
  },
  {
   "cell_type": "code",
   "execution_count": 41,
   "id": "15dbc5bf",
   "metadata": {},
   "outputs": [
    {
     "name": "stdout",
     "output_type": "stream",
     "text": [
      "hello\n",
      "0 coucou j'affiche la variable --> 0\n",
      "1 coucou 2 coucou j'affiche la variable --> 2\n",
      "3 coucou 4 coucou j'affiche la variable --> 4\n",
      "5 coucou 6 coucou j'affiche la variable --> 6\n",
      "7 coucou 8 coucou j'affiche la variable --> 8\n",
      "9 coucou "
     ]
    }
   ],
   "source": [
    "print(\"hello\")\n",
    "for compteur in range(10):\n",
    "    print(compteur, end=\" \")\n",
    "    print(\"coucou\", end=\" \")    \n",
    "    if (compteur%2==0):\n",
    "        print(\"j'affiche la variable -->\" , compteur)"
   ]
  },
  {
   "cell_type": "code",
   "execution_count": 42,
   "id": "a44bf359",
   "metadata": {},
   "outputs": [
    {
     "name": "stdout",
     "output_type": "stream",
     "text": [
      "hello\n",
      "j'affiche la variable --> 0\n",
      "j'affiche la variable --> 2\n",
      "j'affiche la variable --> 4\n",
      "j'affiche la variable --> 6\n",
      "j'affiche la variable --> 8\n"
     ]
    }
   ],
   "source": [
    "print(\"hello\")\n",
    "for compteur in range(10):\n",
    "    if (compteur%2==0):\n",
    "        print(\"j'affiche la variable -->\" , compteur)"
   ]
  },
  {
   "cell_type": "markdown",
   "id": "ba9d0006",
   "metadata": {},
   "source": [
    "# structure de données avancées : liste, tuple, dictionnaire et ensembles"
   ]
  },
  {
   "cell_type": "markdown",
   "id": "bc67fd6d",
   "metadata": {},
   "source": [
    "Ce sont des collections de données, formées en utilisant une syntaxe particulière"
   ]
  },
  {
   "cell_type": "code",
   "execution_count": 43,
   "id": "c88f5124",
   "metadata": {},
   "outputs": [],
   "source": [
    "# une liste \n",
    "maListe = [ 1, 2.0, True, \"cours d'informatique\"]"
   ]
  },
  {
   "cell_type": "code",
   "execution_count": 44,
   "id": "460768ad",
   "metadata": {},
   "outputs": [],
   "source": [
    "# similaire\n",
    "x = 1.0"
   ]
  },
  {
   "cell_type": "code",
   "execution_count": 45,
   "id": "8d52fb40",
   "metadata": {},
   "outputs": [
    {
     "data": {
      "text/plain": [
       "[1, 2.0, True, \"cours d'informatique\"]"
      ]
     },
     "execution_count": 45,
     "metadata": {},
     "output_type": "execute_result"
    }
   ],
   "source": [
    "maListe"
   ]
  },
  {
   "cell_type": "code",
   "execution_count": 48,
   "id": "f5e9e390",
   "metadata": {},
   "outputs": [],
   "source": [
    "L = list(range(10))"
   ]
  },
  {
   "cell_type": "code",
   "execution_count": 49,
   "id": "21104e62",
   "metadata": {},
   "outputs": [
    {
     "data": {
      "text/plain": [
       "[0, 1, 2, 3, 4, 5, 6, 7, 8, 9]"
      ]
     },
     "execution_count": 49,
     "metadata": {},
     "output_type": "execute_result"
    }
   ],
   "source": [
    "L"
   ]
  },
  {
   "cell_type": "code",
   "execution_count": 51,
   "id": "dae6279a",
   "metadata": {},
   "outputs": [],
   "source": [
    "maListe2 = [\"un\", \"deux\", \"trois\",\"quatre\"]"
   ]
  },
  {
   "cell_type": "code",
   "execution_count": 52,
   "id": "5413504c",
   "metadata": {},
   "outputs": [
    {
     "data": {
      "text/plain": [
       "['un', 'deux', 'trois', 'quatre']"
      ]
     },
     "execution_count": 52,
     "metadata": {},
     "output_type": "execute_result"
    }
   ],
   "source": [
    "maListe2"
   ]
  },
  {
   "cell_type": "markdown",
   "id": "a46b8d66",
   "metadata": {},
   "source": [
    "Les collections se différencient par les délimiteurs (crochets, parenthèses ou accolades) ou par leur philosophie pour repérer les éléments qui les constituent."
   ]
  },
  {
   "cell_type": "code",
   "execution_count": 55,
   "id": "a1850a7b",
   "metadata": {},
   "outputs": [],
   "source": [
    "# une liste, crochets et possibilités d'avoir plusieurs fois le même éléments\n",
    "uneListe = [\"un\", \"deux\", \"trois\", 1, 2, 3, 3, \"trois\"]"
   ]
  },
  {
   "cell_type": "code",
   "execution_count": 56,
   "id": "d95585bb",
   "metadata": {},
   "outputs": [
    {
     "data": {
      "text/plain": [
       "['un', 'deux', 'trois', 1, 2, 3, 3, 'trois']"
      ]
     },
     "execution_count": 56,
     "metadata": {},
     "output_type": "execute_result"
    }
   ],
   "source": [
    "uneListe"
   ]
  },
  {
   "cell_type": "code",
   "execution_count": 59,
   "id": "b0d103e1",
   "metadata": {},
   "outputs": [
    {
     "data": {
      "text/plain": [
       "list"
      ]
     },
     "execution_count": 59,
     "metadata": {},
     "output_type": "execute_result"
    }
   ],
   "source": [
    "type(uneListe)"
   ]
  },
  {
   "cell_type": "code",
   "execution_count": 57,
   "id": "9a1c2de2",
   "metadata": {},
   "outputs": [],
   "source": [
    "# un ensemble\n",
    "unEnsemble = {\"un\", \"deux\", \"trois\", 1, 2, 3, 3, \"trois\"}"
   ]
  },
  {
   "cell_type": "code",
   "execution_count": 58,
   "id": "83d5b5dc",
   "metadata": {},
   "outputs": [
    {
     "data": {
      "text/plain": [
       "{1, 2, 3, 'deux', 'trois', 'un'}"
      ]
     },
     "execution_count": 58,
     "metadata": {},
     "output_type": "execute_result"
    }
   ],
   "source": [
    "unEnsemble"
   ]
  },
  {
   "cell_type": "code",
   "execution_count": 61,
   "id": "bcf60a0c",
   "metadata": {},
   "outputs": [
    {
     "data": {
      "text/plain": [
       "set"
      ]
     },
     "execution_count": 61,
     "metadata": {},
     "output_type": "execute_result"
    }
   ],
   "source": [
    "type(unEnsemble)"
   ]
  },
  {
   "cell_type": "code",
   "execution_count": 62,
   "id": "b1dc6e3a",
   "metadata": {},
   "outputs": [],
   "source": [
    "e2 = set(uneListe)"
   ]
  },
  {
   "cell_type": "code",
   "execution_count": 63,
   "id": "2a66eff7",
   "metadata": {},
   "outputs": [
    {
     "data": {
      "text/plain": [
       "{1, 2, 3, 'deux', 'trois', 'un'}"
      ]
     },
     "execution_count": 63,
     "metadata": {},
     "output_type": "execute_result"
    }
   ],
   "source": [
    "e2"
   ]
  },
  {
   "cell_type": "code",
   "execution_count": 64,
   "id": "71333e87",
   "metadata": {},
   "outputs": [],
   "source": [
    "l1 = list(e2)"
   ]
  },
  {
   "cell_type": "code",
   "execution_count": 65,
   "id": "a1d7dd8b",
   "metadata": {},
   "outputs": [
    {
     "data": {
      "text/plain": [
       "[1, 2, 3, 'deux', 'trois', 'un']"
      ]
     },
     "execution_count": 65,
     "metadata": {},
     "output_type": "execute_result"
    }
   ],
   "source": [
    "l1"
   ]
  },
  {
   "cell_type": "markdown",
   "id": "e9b95b63",
   "metadata": {},
   "source": [
    "On vient de voir une technique pour éliminer les doublons."
   ]
  },
  {
   "cell_type": "code",
   "execution_count": 66,
   "id": "52e808e3",
   "metadata": {},
   "outputs": [],
   "source": [
    "# Pour introduire le tuple\n",
    "unTuple = (\"un\", \"deux\", \"trois\", 1, 2, 3, 3, \"trois\")"
   ]
  },
  {
   "cell_type": "code",
   "execution_count": 67,
   "id": "1a5d2221",
   "metadata": {},
   "outputs": [
    {
     "data": {
      "text/plain": [
       "('un', 'deux', 'trois', 1, 2, 3, 3, 'trois')"
      ]
     },
     "execution_count": 67,
     "metadata": {},
     "output_type": "execute_result"
    }
   ],
   "source": [
    "unTuple"
   ]
  },
  {
   "cell_type": "code",
   "execution_count": 68,
   "id": "b4dd5d4b",
   "metadata": {},
   "outputs": [
    {
     "data": {
      "text/plain": [
       "tuple"
      ]
     },
     "execution_count": 68,
     "metadata": {},
     "output_type": "execute_result"
    }
   ],
   "source": [
    "type(unTuple)"
   ]
  },
  {
   "cell_type": "code",
   "execution_count": 69,
   "id": "65b5454e",
   "metadata": {},
   "outputs": [],
   "source": [
    "#utile\n",
    "localisation = [2.35, 48.5]"
   ]
  },
  {
   "cell_type": "code",
   "execution_count": 70,
   "id": "4d6a384f",
   "metadata": {},
   "outputs": [
    {
     "data": {
      "text/plain": [
       "2.35"
      ]
     },
     "execution_count": 70,
     "metadata": {},
     "output_type": "execute_result"
    }
   ],
   "source": [
    "localisation[0]"
   ]
  },
  {
   "cell_type": "code",
   "execution_count": 71,
   "id": "a01ffc59",
   "metadata": {},
   "outputs": [
    {
     "data": {
      "text/plain": [
       "48.5"
      ]
     },
     "execution_count": 71,
     "metadata": {},
     "output_type": "execute_result"
    }
   ],
   "source": [
    "localisation[1]"
   ]
  },
  {
   "cell_type": "code",
   "execution_count": 72,
   "id": "ced65f13",
   "metadata": {},
   "outputs": [],
   "source": [
    "localisation[0]=3.35"
   ]
  },
  {
   "cell_type": "code",
   "execution_count": 73,
   "id": "5843f975",
   "metadata": {},
   "outputs": [
    {
     "data": {
      "text/plain": [
       "[3.35, 48.5]"
      ]
     },
     "execution_count": 73,
     "metadata": {},
     "output_type": "execute_result"
    }
   ],
   "source": [
    "localisation"
   ]
  },
  {
   "cell_type": "code",
   "execution_count": 74,
   "id": "1b74ebf3",
   "metadata": {},
   "outputs": [],
   "source": [
    "localisationT = tuple(localisation)"
   ]
  },
  {
   "cell_type": "code",
   "execution_count": 75,
   "id": "ed2d42bb",
   "metadata": {},
   "outputs": [
    {
     "data": {
      "text/plain": [
       "(3.35, 48.5)"
      ]
     },
     "execution_count": 75,
     "metadata": {},
     "output_type": "execute_result"
    }
   ],
   "source": [
    "localisationT"
   ]
  },
  {
   "cell_type": "code",
   "execution_count": 77,
   "id": "c7a3f845",
   "metadata": {},
   "outputs": [
    {
     "ename": "TypeError",
     "evalue": "'tuple' object does not support item assignment",
     "output_type": "error",
     "traceback": [
      "\u001b[0;31m---------------------------------------------------------------------------\u001b[0m",
      "\u001b[0;31mTypeError\u001b[0m                                 Traceback (most recent call last)",
      "\u001b[0;32m/var/folders/_h/qq8_gdy13bg7ctchc1r_dptr0000gn/T/ipykernel_55162/4251719680.py\u001b[0m in \u001b[0;36m<module>\u001b[0;34m\u001b[0m\n\u001b[0;32m----> 1\u001b[0;31m \u001b[0mlocalisationT\u001b[0m\u001b[0;34m[\u001b[0m\u001b[0;36m0\u001b[0m\u001b[0;34m]\u001b[0m\u001b[0;34m=\u001b[0m\u001b[0;36m4.35\u001b[0m  \u001b[0;31m# génère une erreur\u001b[0m\u001b[0;34m\u001b[0m\u001b[0;34m\u001b[0m\u001b[0m\n\u001b[0m",
      "\u001b[0;31mTypeError\u001b[0m: 'tuple' object does not support item assignment"
     ]
    }
   ],
   "source": [
    "localisationT[0]=4.35  # génère une erreur"
   ]
  },
  {
   "cell_type": "markdown",
   "id": "5d1ad76d",
   "metadata": {},
   "source": [
    "C'est la différence entre tuple et liste est la non-modification des éléments (immutable)"
   ]
  },
  {
   "cell_type": "code",
   "execution_count": 78,
   "id": "95e931b8",
   "metadata": {},
   "outputs": [],
   "source": [
    "# Dictionnaire vs Liste\n",
    "Dico = {\"a\": 'un', \"b\": 'deux', \"c\": 'trois' }"
   ]
  },
  {
   "cell_type": "code",
   "execution_count": 79,
   "id": "d771c399",
   "metadata": {},
   "outputs": [
    {
     "data": {
      "text/plain": [
       "{'a': 'un', 'b': 'deux', 'c': 'trois'}"
      ]
     },
     "execution_count": 79,
     "metadata": {},
     "output_type": "execute_result"
    }
   ],
   "source": [
    "Dico"
   ]
  },
  {
   "cell_type": "code",
   "execution_count": 80,
   "id": "faddc86d",
   "metadata": {},
   "outputs": [
    {
     "data": {
      "text/plain": [
       "dict"
      ]
     },
     "execution_count": 80,
     "metadata": {},
     "output_type": "execute_result"
    }
   ],
   "source": [
    "type(Dico)"
   ]
  },
  {
   "cell_type": "code",
   "execution_count": 81,
   "id": "f49285e3",
   "metadata": {},
   "outputs": [],
   "source": [
    "etudiant1 = {'Nom' : 'Bui', 'Prénom' : 'Marc', 'Age': 57}"
   ]
  },
  {
   "cell_type": "code",
   "execution_count": 82,
   "id": "43338e5e",
   "metadata": {},
   "outputs": [
    {
     "data": {
      "text/plain": [
       "{'Nom': 'Bui', 'Prénom': 'Marc', 'Age': 57}"
      ]
     },
     "execution_count": 82,
     "metadata": {},
     "output_type": "execute_result"
    }
   ],
   "source": [
    "etudiant1"
   ]
  },
  {
   "cell_type": "code",
   "execution_count": null,
   "id": "d34345d8",
   "metadata": {},
   "outputs": [],
   "source": []
  }
 ],
 "metadata": {
  "kernelspec": {
   "display_name": "Python 3 (ipykernel)",
   "language": "python",
   "name": "python3"
  },
  "language_info": {
   "codemirror_mode": {
    "name": "ipython",
    "version": 3
   },
   "file_extension": ".py",
   "mimetype": "text/x-python",
   "name": "python",
   "nbconvert_exporter": "python",
   "pygments_lexer": "ipython3",
   "version": "3.9.7"
  }
 },
 "nbformat": 4,
 "nbformat_minor": 5
}
